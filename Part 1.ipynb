{
 "cells": [
  {
   "cell_type": "code",
   "execution_count": 1,
   "id": "b67796de",
   "metadata": {},
   "outputs": [],
   "source": [
    "import math"
   ]
  },
  {
   "cell_type": "markdown",
   "id": "63a3ea1d",
   "metadata": {},
   "source": [
    "# 1. Write a program which accepts the radius of a circle from the user and compute the\n",
    "area. “A = πr\n",
    "2\n",
    "(π = 3.14)\n",
    "\n",
    "Sample Output :\n",
    "r = 1.1\n",
    "Area = 3.8013271108436504"
   ]
  },
  {
   "cell_type": "code",
   "execution_count": 2,
   "id": "54466627",
   "metadata": {},
   "outputs": [
    {
     "name": "stdout",
     "output_type": "stream",
     "text": [
      "Write R :89\n",
      "24884.55540908475\n"
     ]
    }
   ],
   "source": [
    "r=float(input(\"Write R :\"))\n",
    "print(math.pi*(r**2))"
   ]
  },
  {
   "cell_type": "markdown",
   "id": "48e9498e",
   "metadata": {},
   "source": [
    "# 2. Write a program which accepts the user's first and last name and print them in reverse order with a space between them."
   ]
  },
  {
   "cell_type": "code",
   "execution_count": 1,
   "id": "8322f24d",
   "metadata": {},
   "outputs": [
    {
     "name": "stdout",
     "output_type": "stream",
     "text": [
      "Enter First Name :Ahmed\n",
      "Enter lname Name :Gamal\n",
      "Gamal Ahmed\n"
     ]
    }
   ],
   "source": [
    "fname = input(\"Enter First Name :\")\n",
    "lname = input(\"Enter lname Name :\")\n",
    "print (lname + \" \" + fname)"
   ]
  },
  {
   "cell_type": "markdown",
   "id": "0f2c34dc",
   "metadata": {},
   "source": [
    "# 3. Write a program to check whether a specified word (entered by user) is contained in a string paragraph or not."
   ]
  },
  {
   "cell_type": "code",
   "execution_count": null,
   "id": "e789660a",
   "metadata": {},
   "outputs": [],
   "source": [
    "str = input(\"Enter Sentence :\")\n",
    "word= input(\"Enter word to find :\")\n",
    "print(str.find(word))"
   ]
  },
  {
   "cell_type": "markdown",
   "id": "ca127e72",
   "metadata": {},
   "source": [
    "# 4. Write a program to check if a certain letter entered by user (upper and lower case format) exists in a string."
   ]
  },
  {
   "cell_type": "code",
   "execution_count": null,
   "id": "2ff0be50",
   "metadata": {},
   "outputs": [],
   "source": [
    "letter = input(\"Please Enter a letter:\").lower()\n",
    "sentence = input(\"Please Enter a sentence:\").lower()\n",
    "print(word.find(letter))"
   ]
  },
  {
   "cell_type": "markdown",
   "id": "9bb5bf47",
   "metadata": {},
   "source": [
    "# 5. Write a program to take a full sentence from user and split it into words."
   ]
  },
  {
   "cell_type": "code",
   "execution_count": null,
   "id": "630197a4",
   "metadata": {},
   "outputs": [],
   "source": [
    "sentence = input(\"Please Enter a sentence:\")\n",
    "print(sentence.split())"
   ]
  },
  {
   "cell_type": "markdown",
   "id": "e2713c8e",
   "metadata": {},
   "source": [
    "# 6. Write a program to take 3 values from user (string, integer, float) and print them at one statement. Then print type of each value."
   ]
  },
  {
   "cell_type": "code",
   "execution_count": null,
   "id": "1e80b7ae",
   "metadata": {},
   "outputs": [],
   "source": [
    "sentence = input(\"Please Enter a sentence:\")\n",
    "integer = int(input(\"Please Enter a sentence:\"))\n",
    "number = float(input(\"Please Enter a sentence:\"))\n",
    "print(sentence +\" \"+str(integer)+\" \"+str(number))"
   ]
  },
  {
   "cell_type": "markdown",
   "id": "105430ef",
   "metadata": {},
   "source": [
    "# 7. Write a program to calculate the length of a string, after removing spaces."
   ]
  },
  {
   "cell_type": "code",
   "execution_count": null,
   "id": "979c853c",
   "metadata": {},
   "outputs": [],
   "source": [
    "sentence = input(\"Please Enter a sentence:\")\n",
    "print(len(sentence) - sentence.count(\" \"))"
   ]
  },
  {
   "cell_type": "markdown",
   "id": "5e86b077",
   "metadata": {},
   "source": [
    "# 8. Write a program to print number of spaces at a paragraph."
   ]
  },
  {
   "cell_type": "code",
   "execution_count": null,
   "id": "69bc02f4",
   "metadata": {},
   "outputs": [],
   "source": [
    "sentence = input(\"Please Enter a sentence:\")\n",
    "print(entence.count(\" \"))"
   ]
  },
  {
   "cell_type": "markdown",
   "id": "dfb55e85",
   "metadata": {},
   "source": [
    "# 9. Write a program to add 'ING' at the middle of a given string (entered by user).\n",
    "## Sample String : 'abcd'\n",
    "## Expected Result : 'abINGcd'"
   ]
  },
  {
   "cell_type": "code",
   "execution_count": null,
   "id": "60503a8d",
   "metadata": {},
   "outputs": [],
   "source": [
    "word= input(\"Enter word:\")\n",
    "print(word[:round(len(word)/2)]+\"ING\"+word[round(len(word)/2):])"
   ]
  },
  {
   "cell_type": "markdown",
   "id": "def819ee",
   "metadata": {},
   "source": [
    "# 10. Write a program to compare 3 numbers (entered by user) with comparison operators, using\n",
    "### logical operators between different conditions \n",
    "### Expected Result: True/False"
   ]
  },
  {
   "cell_type": "code",
   "execution_count": null,
   "id": "eaad4cc8",
   "metadata": {},
   "outputs": [],
   "source": [
    "Number_one = input(\"Enter Number :\")\n",
    "Number_two = input(\"Enter Number :\")\n",
    "Number_three =input(\"Enter Number :\")\n",
    "print(Number_one == Number_two ,Number_two > Number_one , Number_three != Number_one)"
   ]
  },
  {
   "cell_type": "code",
   "execution_count": null,
   "id": "c4b9b217",
   "metadata": {},
   "outputs": [],
   "source": []
  }
 ],
 "metadata": {
  "kernelspec": {
   "display_name": "Python 3 (ipykernel)",
   "language": "python",
   "name": "python3"
  },
  "language_info": {
   "codemirror_mode": {
    "name": "ipython",
    "version": 3
   },
   "file_extension": ".py",
   "mimetype": "text/x-python",
   "name": "python",
   "nbconvert_exporter": "python",
   "pygments_lexer": "ipython3",
   "version": "3.9.7"
  }
 },
 "nbformat": 4,
 "nbformat_minor": 5
}
