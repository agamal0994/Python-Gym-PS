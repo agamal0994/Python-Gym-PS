{
 "cells": [
  {
   "cell_type": "code",
   "execution_count": 1,
   "id": "531f47f6",
   "metadata": {},
   "outputs": [],
   "source": [
    "import pandas as pd \n",
    "import numpy as np"
   ]
  },
  {
   "cell_type": "markdown",
   "id": "33e78956",
   "metadata": {},
   "source": [
    "## 1. Write a Python function that takes your name and print a greeting message to you.\n"
   ]
  },
  {
   "cell_type": "code",
   "execution_count": 4,
   "id": "ac461472",
   "metadata": {},
   "outputs": [
    {
     "name": "stdout",
     "output_type": "stream",
     "text": [
      "Enter your name: ahmed\n",
      "Hello,ahmed\n"
     ]
    }
   ],
   "source": [
    "def Greeting(name):\n",
    "    print('Hello,' + name)\n",
    "\n",
    "my_input = input('Enter your name: ')\n",
    "Greeting(my_input)"
   ]
  },
  {
   "cell_type": "markdown",
   "id": "324d7900",
   "metadata": {},
   "source": [
    "## 2. Write a Python function that takes a list of numbers and find sum of all numbers in this list. Then return result in variable named total_sum.\n"
   ]
  },
  {
   "cell_type": "code",
   "execution_count": 6,
   "id": "271837f6",
   "metadata": {},
   "outputs": [
    {
     "data": {
      "text/plain": [
       "25"
      ]
     },
     "execution_count": 6,
     "metadata": {},
     "output_type": "execute_result"
    }
   ],
   "source": [
    "def summ(nums):\n",
    "    return sum(nums)\n",
    "my_input= [4,4,3,2,5,7]\n",
    "summ(my_input)"
   ]
  },
  {
   "cell_type": "markdown",
   "id": "cd9052aa",
   "metadata": {},
   "source": [
    "## 3. Write a Python function that takes a list of words and print a full sentence of these words."
   ]
  },
  {
   "cell_type": "code",
   "execution_count": 6,
   "id": "d572c9b5",
   "metadata": {},
   "outputs": [
    {
     "name": "stdout",
     "output_type": "stream",
     "text": [
      "Enter elements of a list separated by space my lol iz lol\n",
      "my lol iz lol \n"
     ]
    }
   ],
   "source": [
    "def func(words_list):\n",
    "    temp_str = ''\n",
    "    for i in words_list:\n",
    "        temp_str += i\n",
    "        temp_str+=' '\n",
    "    return temp_str\n",
    "\n",
    "my_input =input('Enter elements of a list separated by space ').split()\n",
    "print(func(my_input))"
   ]
  },
  {
   "cell_type": "markdown",
   "id": "dc80c695",
   "metadata": {},
   "source": [
    "## 4. Write a Python function that takes a list and returns a new list with unique elements of the first list.\n"
   ]
  },
  {
   "cell_type": "code",
   "execution_count": 7,
   "id": "7e8891ef",
   "metadata": {},
   "outputs": [
    {
     "data": {
      "text/plain": [
       "[2, 3, 4, 5, 7]"
      ]
     },
     "execution_count": 7,
     "metadata": {},
     "output_type": "execute_result"
    }
   ],
   "source": [
    "my_input= [4,4,3,2,5,7] \n",
    "def uni_list(li):\n",
    "    return list(set(li))\n",
    "\n",
    "uni_list(my_input)"
   ]
  },
  {
   "cell_type": "markdown",
   "id": "b5fabae8",
   "metadata": {},
   "source": [
    "## 5. Write a Python function that takes three numbers defined as global variables and find the maximum number.\n"
   ]
  },
  {
   "cell_type": "code",
   "execution_count": 9,
   "id": "7c8b2c27",
   "metadata": {},
   "outputs": [
    {
     "data": {
      "text/plain": [
       "9"
      ]
     },
     "execution_count": 9,
     "metadata": {},
     "output_type": "execute_result"
    }
   ],
   "source": [
    "a= 6\n",
    "b = 2\n",
    "c = 9\n",
    "def return_max(a,b,c):\n",
    "    if a > b and a > c :\n",
    "        return a\n",
    "    elif b > a and b > c :\n",
    "        return b \n",
    "    else:\n",
    "        return c\n",
    "    \n",
    "return_max(a,b,c)"
   ]
  },
  {
   "cell_type": "markdown",
   "id": "3beab7dd",
   "metadata": {},
   "source": [
    "## 6. Write a Python function that takes a number as default argument, and check the number is prime or not.\n"
   ]
  },
  {
   "cell_type": "code",
   "execution_count": 12,
   "id": "2adfd9be",
   "metadata": {},
   "outputs": [
    {
     "name": "stdout",
     "output_type": "stream",
     "text": [
      "Enter num to check :11\n"
     ]
    },
    {
     "data": {
      "text/plain": [
       "True"
      ]
     },
     "execution_count": 12,
     "metadata": {},
     "output_type": "execute_result"
    }
   ],
   "source": [
    "my_input = int(input('Enter num to check :'))\n",
    "def is_prime(num):\n",
    "    num = 3\n",
    "    prime = True\n",
    "    for i in range(2,10):\n",
    "        if num % i == 0 and i != num:\n",
    "            prime = False \n",
    "            break\n",
    "        else:\n",
    "            prime = True\n",
    "    return prime\n",
    "is_prime(my_input)"
   ]
  },
  {
   "cell_type": "markdown",
   "id": "e66e8962",
   "metadata": {},
   "source": [
    "## 7. Write a Python function to reverse a list of items.\n"
   ]
  },
  {
   "cell_type": "code",
   "execution_count": 13,
   "id": "c7ce8189",
   "metadata": {},
   "outputs": [
    {
     "name": "stdout",
     "output_type": "stream",
     "text": [
      "Enter list1 2 3 4\n",
      "['4', '3', '2', '1']\n"
     ]
    }
   ],
   "source": [
    "my_input=input('Enter list').split()\n",
    "def rev_list(li):\n",
    "    return li[::-1]\n",
    "\n",
    "print(rev_list(my_input))"
   ]
  },
  {
   "cell_type": "markdown",
   "id": "c9c75999",
   "metadata": {},
   "source": [
    "## 8. Create an array of shape (3,5).\n"
   ]
  },
  {
   "cell_type": "code",
   "execution_count": 14,
   "id": "840a3fef",
   "metadata": {},
   "outputs": [
    {
     "name": "stdout",
     "output_type": "stream",
     "text": [
      "[[1 1 1 1 1]\n",
      " [2 2 2 2 2]\n",
      " [3 3 3 3 3]]\n"
     ]
    }
   ],
   "source": [
    "arr = np.array([[1, 1, 1, 1, 1], [2, 2, 2 , 2, 2], [3, 3, 3, 3, 3]])\n",
    "print(arr)"
   ]
  },
  {
   "cell_type": "markdown",
   "id": "b3bb3ab4",
   "metadata": {},
   "source": [
    "## 9. Create an array of 4 rows and 3 columns, with positive random fractions.\n"
   ]
  },
  {
   "cell_type": "code",
   "execution_count": 15,
   "id": "d979979e",
   "metadata": {},
   "outputs": [
    {
     "name": "stdout",
     "output_type": "stream",
     "text": [
      "[[0.46009034 0.43975122 0.12409052]\n",
      " [0.00592949 0.0796373  0.88406802]\n",
      " [0.51772253 0.40797379 0.16390173]\n",
      " [0.13995066 0.7422259  0.40236975]]\n"
     ]
    }
   ],
   "source": [
    "arr = np.random.rand(4, 3)\n",
    "print(arr)"
   ]
  },
  {
   "cell_type": "markdown",
   "id": "95c3492e",
   "metadata": {},
   "source": [
    "## 10. Create a random 2D array of Gaussian distributed fractions.\n"
   ]
  },
  {
   "cell_type": "code",
   "execution_count": 16,
   "id": "e9eb7cbb",
   "metadata": {},
   "outputs": [
    {
     "name": "stdout",
     "output_type": "stream",
     "text": [
      "[[-1.70505652 -0.1142239 ]\n",
      " [ 0.33368709 -0.18940482]]\n"
     ]
    }
   ],
   "source": [
    "x = np.random.randn(2, 2)\n",
    "print(x)"
   ]
  },
  {
   "cell_type": "markdown",
   "id": "4fd66fbd",
   "metadata": {},
   "source": [
    "## 11. Create a dataframe of different students’ data (name, age, class).\n"
   ]
  },
  {
   "cell_type": "code",
   "execution_count": 17,
   "id": "2757cf4b",
   "metadata": {},
   "outputs": [
    {
     "name": "stdout",
     "output_type": "stream",
     "text": [
      "     name  age    class\n",
      "0     Sia   18     Math\n",
      "1  Dawson   18     Male\n",
      "2  Gaafar   20    Memes\n",
      "3   Maria   22  English\n",
      "4     Lol   24   Arabic\n"
     ]
    }
   ],
   "source": [
    "info = [('Sia', 18, 'Math'), ('Dawson',18 , 'Male'), ('Gaafar', 20, 'Memes'), ('Maria', 22, 'English'), ('Lol', 24, 'Arabic')]\n",
    "df = pd.DataFrame(info, columns=['name', 'age', 'class'])\n",
    "print(df)"
   ]
  },
  {
   "cell_type": "markdown",
   "id": "57912c9f",
   "metadata": {},
   "source": [
    "## 12. Create a dataframe from below given lists, then save it in an excel file.\n"
   ]
  },
  {
   "cell_type": "code",
   "execution_count": 18,
   "id": "c0f53a85",
   "metadata": {},
   "outputs": [
    {
     "data": {
      "text/html": [
       "<div>\n",
       "<style scoped>\n",
       "    .dataframe tbody tr th:only-of-type {\n",
       "        vertical-align: middle;\n",
       "    }\n",
       "\n",
       "    .dataframe tbody tr th {\n",
       "        vertical-align: top;\n",
       "    }\n",
       "\n",
       "    .dataframe thead th {\n",
       "        text-align: right;\n",
       "    }\n",
       "</style>\n",
       "<table border=\"1\" class=\"dataframe\">\n",
       "  <thead>\n",
       "    <tr style=\"text-align: right;\">\n",
       "      <th></th>\n",
       "      <th>Country</th>\n",
       "      <th>capital</th>\n",
       "      <th>area</th>\n",
       "      <th>population</th>\n",
       "    </tr>\n",
       "  </thead>\n",
       "  <tbody>\n",
       "    <tr>\n",
       "      <th>0</th>\n",
       "      <td>Brazil</td>\n",
       "      <td>Brasilia</td>\n",
       "      <td>8.516</td>\n",
       "      <td>200.40</td>\n",
       "    </tr>\n",
       "    <tr>\n",
       "      <th>1</th>\n",
       "      <td>Russia</td>\n",
       "      <td>Moscow</td>\n",
       "      <td>17.100</td>\n",
       "      <td>143.50</td>\n",
       "    </tr>\n",
       "    <tr>\n",
       "      <th>2</th>\n",
       "      <td>India</td>\n",
       "      <td>New Dehli</td>\n",
       "      <td>3.286</td>\n",
       "      <td>1252.00</td>\n",
       "    </tr>\n",
       "    <tr>\n",
       "      <th>3</th>\n",
       "      <td>China</td>\n",
       "      <td>Beijing</td>\n",
       "      <td>9.597</td>\n",
       "      <td>1357.00</td>\n",
       "    </tr>\n",
       "    <tr>\n",
       "      <th>4</th>\n",
       "      <td>South Africa</td>\n",
       "      <td>Pretoria</td>\n",
       "      <td>1.221</td>\n",
       "      <td>52.98</td>\n",
       "    </tr>\n",
       "  </tbody>\n",
       "</table>\n",
       "</div>"
      ],
      "text/plain": [
       "        Country    capital    area  population\n",
       "0        Brazil   Brasilia   8.516      200.40\n",
       "1        Russia     Moscow  17.100      143.50\n",
       "2         India  New Dehli   3.286     1252.00\n",
       "3         China    Beijing   9.597     1357.00\n",
       "4  South Africa   Pretoria   1.221       52.98"
      ]
     },
     "execution_count": 18,
     "metadata": {},
     "output_type": "execute_result"
    }
   ],
   "source": [
    "Country= [\"Brazil\", \"Russia\", \"India\", \"China\", \"South Africa\"]\n",
    "capital= [\"Brasilia\", \"Moscow\", \"New Dehli\", \"Beijing\", \"Pretoria\"]\n",
    "area= [8.516, 17.10, 3.286, 9.597, 1.221]\n",
    "population = [200.4, 143.5, 1252, 1357, 52.98]\n",
    "\n",
    "data_dict = zip(Country,capital,area,population)\n",
    "\n",
    "df= pd.DataFrame(data_dict , columns=['Country', 'capital','area','population'])\n",
    "df"
   ]
  },
  {
   "cell_type": "code",
   "execution_count": null,
   "id": "5f49c965",
   "metadata": {},
   "outputs": [],
   "source": []
  }
 ],
 "metadata": {
  "kernelspec": {
   "display_name": "Python 3 (ipykernel)",
   "language": "python",
   "name": "python3"
  },
  "language_info": {
   "codemirror_mode": {
    "name": "ipython",
    "version": 3
   },
   "file_extension": ".py",
   "mimetype": "text/x-python",
   "name": "python",
   "nbconvert_exporter": "python",
   "pygments_lexer": "ipython3",
   "version": "3.9.7"
  }
 },
 "nbformat": 4,
 "nbformat_minor": 5
}
