{
 "cells": [
  {
   "cell_type": "markdown",
   "id": "92f02f00",
   "metadata": {},
   "source": [
    "## 1. Write a Python program which accepts a sequence of comma-separated numbers from user and generate a list and a tuple with those numbers."
   ]
  },
  {
   "cell_type": "code",
   "execution_count": 8,
   "id": "239600ee",
   "metadata": {},
   "outputs": [
    {
     "name": "stdout",
     "output_type": "stream",
     "text": [
      "Enter Sentence:3,5,4\n"
     ]
    }
   ],
   "source": [
    "sentence = input(\"Enter Seq:\")\n",
    "my_list =sentence.split(\",\")\n",
    "my_tuple = tuple(sentence.split(\",\"))"
   ]
  },
  {
   "cell_type": "markdown",
   "id": "4d1fbe11",
   "metadata": {},
   "source": [
    "## 2. Write a Python program to display the first and last colors from the following list.\n"
   ]
  },
  {
   "cell_type": "code",
   "execution_count": 10,
   "id": "c3cc95fc",
   "metadata": {},
   "outputs": [
    {
     "name": "stdout",
     "output_type": "stream",
     "text": [
      "Red Black\n"
     ]
    }
   ],
   "source": [
    "color_list = [\"Red\", \"Green\", \"White\" , \"Black\"]\n",
    "print(color_list[0]+\" \"+color_list[-1])"
   ]
  },
  {
   "cell_type": "markdown",
   "id": "7e8350d4",
   "metadata": {},
   "source": [
    "## 3. Write a Python program to check whether a specified value is contained in a group of values.\n"
   ]
  },
  {
   "cell_type": "code",
   "execution_count": 32,
   "id": "ce9a5b66",
   "metadata": {},
   "outputs": [
    {
     "name": "stdout",
     "output_type": "stream",
     "text": [
      "Enter Group of No separated by comma :1,2,3,4,5\n",
      "Enter no to find :6\n",
      "False\n"
     ]
    }
   ],
   "source": [
    "lol = input(\"Enter Group of No separated by comma :\")\n",
    "Num = input(\"Enter no to find :\")\n",
    "print(Num in lol)"
   ]
  },
  {
   "cell_type": "markdown",
   "id": "90c6253d",
   "metadata": {},
   "source": [
    "## 4. Write a Python program to count the number of characters (character frequency) in a string.\n"
   ]
  },
  {
   "cell_type": "code",
   "execution_count": 33,
   "id": "b0fb38ff",
   "metadata": {},
   "outputs": [
    {
     "name": "stdout",
     "output_type": "stream",
     "text": [
      "Enter ur wordgoogle.com\n",
      "{'g': 2, 'o': 3, 'l': 1, 'e': 1, '.': 1, 'c': 1, 'm': 1}\n"
     ]
    }
   ],
   "source": [
    "def func(word):\n",
    "    word_dict = {}\n",
    "    for n in word:\n",
    "        keys = word_dict.keys()\n",
    "        if n in keys:\n",
    "            word_dict[n] += 1\n",
    "        else:\n",
    "            word_dict[n] = 1\n",
    "    return word_dict\n",
    "print(func(input(\"Enter ur word : \")))"
   ]
  },
  {
   "cell_type": "markdown",
   "id": "38d5eecf",
   "metadata": {},
   "source": [
    "## 5. Write a Python program to find the first appearance of the substring 'not' and 'poor' from a given string, replace the whole 'not'...'poor' substring with good'. Return the resulting string.\n"
   ]
  },
  {
   "cell_type": "code",
   "execution_count": 38,
   "id": "319d492d",
   "metadata": {},
   "outputs": [
    {
     "name": "stdout",
     "output_type": "stream",
     "text": [
      "Enter sentence :The lyrics is not that poor\n",
      "The lyrics is good that good\n"
     ]
    }
   ],
   "source": [
    "sentence = input(\"Enter sentence :\")\n",
    "f_word = input(\"Enter first word :\")\n",
    "s_word = input(\"Enter second word :\")\n",
    "print(sentence.replace(sentence[sentence.find(f_word):sentence.find(s_word)+len(s_word)],\"good\"))"
   ]
  },
  {
   "cell_type": "markdown",
   "id": "ee34d04c",
   "metadata": {},
   "source": [
    "# # 6. Write a Python program to convert a string in a list."
   ]
  },
  {
   "cell_type": "code",
   "execution_count": 40,
   "id": "a078978d",
   "metadata": {},
   "outputs": [
    {
     "name": "stdout",
     "output_type": "stream",
     "text": [
      "Enter sentence :i love sia\n",
      "['i', ' ', 'l', 'o', 'v', 'e', ' ', 's', 'i', 'a']\n"
     ]
    }
   ],
   "source": [
    "sentence = input(\"Enter sentence :\")\n",
    "my_list = list(sentence)\n",
    "print(my_list)"
   ]
  },
  {
   "cell_type": "markdown",
   "id": "e3254573",
   "metadata": {},
   "source": [
    "## 7. Write a Python program to sum all the items in a list.\n"
   ]
  },
  {
   "cell_type": "code",
   "execution_count": 69,
   "id": "03e563ad",
   "metadata": {},
   "outputs": [
    {
     "name": "stdout",
     "output_type": "stream",
     "text": [
      "Enter elements of a list separated by space 1 2 3 4\n",
      "10\n"
     ]
    }
   ],
   "source": [
    "my_input= input('Enter elements of a list separated by space ').split()\n",
    "for i in range(len(my_input)):\n",
    "    # convert each item to int type\n",
    "    my_input[i] = int(my_input[i])\n",
    "print(sum(my_input))"
   ]
  },
  {
   "cell_type": "markdown",
   "id": "1f122e2c",
   "metadata": {},
   "source": [
    "## 8. Write a Python program to get the largest and the smallest numbers from a list.\n"
   ]
  },
  {
   "cell_type": "code",
   "execution_count": 4,
   "id": "da80f879",
   "metadata": {
    "scrolled": true
   },
   "outputs": [
    {
     "name": "stdout",
     "output_type": "stream",
     "text": [
      "Enter elements of a list separated by space 5 6 3 1 2 \n",
      "6 1\n"
     ]
    }
   ],
   "source": [
    "my_input= input('Enter elements of a list separated by space ').split()\n",
    "for i in range(len(my_input)):\n",
    "    my_input[i] = int(my_input[i])\n",
    "print(max(my_input),min(my_input))"
   ]
  },
  {
   "cell_type": "markdown",
   "id": "54be85e9",
   "metadata": {},
   "source": [
    "## 9. Write a Python program to get a list, sorted in increasing order by the last element in each tuple from a given list of non-empty tuples.\n"
   ]
  },
  {
   "cell_type": "code",
   "execution_count": 11,
   "id": "f62eb689",
   "metadata": {},
   "outputs": [
    {
     "name": "stdout",
     "output_type": "stream",
     "text": [
      "Enter a List[(2, 5), (1, 2), (4, 4), (2, 3), (2, 1)]\n",
      "['[(2,', '5),', '(1,', '2),', '(4,', '4),', '(2,', '3),', '(2,', '1)]']\n"
     ]
    }
   ],
   "source": [
    "my_input =input('Enter elements of a list separated by space ').split()\n",
    "my_input.sort(key=lambda x: x[-1])\n",
    "print(my_input)"
   ]
  },
  {
   "cell_type": "markdown",
   "id": "24329c40",
   "metadata": {},
   "source": [
    "## 10. Write a Python program to remove duplicates from a list.\n"
   ]
  },
  {
   "cell_type": "code",
   "execution_count": 12,
   "id": "beccd5c9",
   "metadata": {
    "scrolled": true
   },
   "outputs": [
    {
     "name": "stdout",
     "output_type": "stream",
     "text": [
      "Enter a List2 3 1 4 5 2 2 3 4 1 20 20 203\n",
      "['2', '3', '1', '4', '5', '20', '203']\n"
     ]
    }
   ],
   "source": [
    "my_input =input('Enter elements of a list separated by space ').split()\n",
    "print(list(dict.fromkeys(my_input)))"
   ]
  },
  {
   "cell_type": "markdown",
   "id": "c9a529bf",
   "metadata": {},
   "source": [
    "## 11. Write a Python program to shuffle and print a specified list.\n"
   ]
  },
  {
   "cell_type": "code",
   "execution_count": 16,
   "id": "f6d23050",
   "metadata": {},
   "outputs": [
    {
     "name": "stdout",
     "output_type": "stream",
     "text": [
      "Enter a List3 4 5 6 7\n"
     ]
    },
    {
     "data": {
      "text/plain": [
       "['3', '4', '7', '5', '6']"
      ]
     },
     "execution_count": 16,
     "metadata": {},
     "output_type": "execute_result"
    }
   ],
   "source": [
    "from random import shuffle\n",
    "my_input =input('Enter elements of a list separated by space ').split()\n",
    "shuffle(my_input)\n",
    "my_input"
   ]
  },
  {
   "cell_type": "markdown",
   "id": "0eaf059f",
   "metadata": {},
   "source": [
    "## 12. Write a Python program to convert a list of characters into a string.\n"
   ]
  },
  {
   "cell_type": "code",
   "execution_count": 20,
   "id": "18357896",
   "metadata": {},
   "outputs": [
    {
     "name": "stdout",
     "output_type": "stream",
     "text": [
      "Enter a Listg o o d\n",
      "good\n"
     ]
    }
   ],
   "source": [
    "my_input =input('Enter elements of a list separated by space ').split()\n",
    "strin = ''\n",
    "for i  in my_input:\n",
    "    strin += i\n",
    "print(strin)"
   ]
  },
  {
   "cell_type": "markdown",
   "id": "e4088e84",
   "metadata": {},
   "source": [
    "## 13. Write a Python program to count the number of elements in a list within a specified range.\n"
   ]
  },
  {
   "cell_type": "code",
   "execution_count": 54,
   "id": "72ce433a",
   "metadata": {},
   "outputs": [
    {
     "ename": "KeyboardInterrupt",
     "evalue": "Interrupted by user",
     "output_type": "error",
     "traceback": [
      "\u001b[1;31m---------------------------------------------------------------------------\u001b[0m",
      "\u001b[1;31mKeyboardInterrupt\u001b[0m                         Traceback (most recent call last)",
      "\u001b[1;32m~\\AppData\\Local\\Temp/ipykernel_15336/2454716297.py\u001b[0m in \u001b[0;36m<module>\u001b[1;34m\u001b[0m\n\u001b[1;32m----> 1\u001b[1;33m \u001b[0mmy_input\u001b[0m \u001b[1;33m=\u001b[0m\u001b[0minput\u001b[0m\u001b[1;33m(\u001b[0m\u001b[1;34m'Enter a List'\u001b[0m\u001b[1;33m)\u001b[0m\u001b[1;33m.\u001b[0m\u001b[0msplit\u001b[0m\u001b[1;33m(\u001b[0m\u001b[1;33m)\u001b[0m\u001b[1;33m\u001b[0m\u001b[1;33m\u001b[0m\u001b[0m\n\u001b[0m\u001b[0;32m      2\u001b[0m \u001b[0mc\u001b[0m \u001b[1;33m=\u001b[0m \u001b[1;36m0\u001b[0m\u001b[1;33m\u001b[0m\u001b[1;33m\u001b[0m\u001b[0m\n\u001b[0;32m      3\u001b[0m \u001b[0mstart\u001b[0m \u001b[1;33m=\u001b[0m\u001b[0minput\u001b[0m\u001b[1;33m(\u001b[0m\u001b[1;34m'Enter a start : '\u001b[0m\u001b[1;33m)\u001b[0m\u001b[1;33m\u001b[0m\u001b[1;33m\u001b[0m\u001b[0m\n\u001b[0;32m      4\u001b[0m \u001b[0mend\u001b[0m \u001b[1;33m=\u001b[0m\u001b[0minput\u001b[0m\u001b[1;33m(\u001b[0m\u001b[1;34m'Enter a end : '\u001b[0m\u001b[1;33m)\u001b[0m\u001b[1;33m\u001b[0m\u001b[1;33m\u001b[0m\u001b[0m\n\u001b[0;32m      5\u001b[0m \u001b[1;32mfor\u001b[0m \u001b[0mi\u001b[0m \u001b[1;32min\u001b[0m  \u001b[0mmy_input\u001b[0m\u001b[1;33m:\u001b[0m\u001b[1;33m\u001b[0m\u001b[1;33m\u001b[0m\u001b[0m\n",
      "\u001b[1;32m~\\anaconda3\\lib\\site-packages\\ipykernel\\kernelbase.py\u001b[0m in \u001b[0;36mraw_input\u001b[1;34m(self, prompt)\u001b[0m\n\u001b[0;32m   1004\u001b[0m                 \u001b[1;34m\"raw_input was called, but this frontend does not support input requests.\"\u001b[0m\u001b[1;33m\u001b[0m\u001b[1;33m\u001b[0m\u001b[0m\n\u001b[0;32m   1005\u001b[0m             )\n\u001b[1;32m-> 1006\u001b[1;33m         return self._input_request(\n\u001b[0m\u001b[0;32m   1007\u001b[0m             \u001b[0mstr\u001b[0m\u001b[1;33m(\u001b[0m\u001b[0mprompt\u001b[0m\u001b[1;33m)\u001b[0m\u001b[1;33m,\u001b[0m\u001b[1;33m\u001b[0m\u001b[1;33m\u001b[0m\u001b[0m\n\u001b[0;32m   1008\u001b[0m             \u001b[0mself\u001b[0m\u001b[1;33m.\u001b[0m\u001b[0m_parent_ident\u001b[0m\u001b[1;33m[\u001b[0m\u001b[1;34m\"shell\"\u001b[0m\u001b[1;33m]\u001b[0m\u001b[1;33m,\u001b[0m\u001b[1;33m\u001b[0m\u001b[1;33m\u001b[0m\u001b[0m\n",
      "\u001b[1;32m~\\anaconda3\\lib\\site-packages\\ipykernel\\kernelbase.py\u001b[0m in \u001b[0;36m_input_request\u001b[1;34m(self, prompt, ident, parent, password)\u001b[0m\n\u001b[0;32m   1049\u001b[0m             \u001b[1;32mexcept\u001b[0m \u001b[0mKeyboardInterrupt\u001b[0m\u001b[1;33m:\u001b[0m\u001b[1;33m\u001b[0m\u001b[1;33m\u001b[0m\u001b[0m\n\u001b[0;32m   1050\u001b[0m                 \u001b[1;31m# re-raise KeyboardInterrupt, to truncate traceback\u001b[0m\u001b[1;33m\u001b[0m\u001b[1;33m\u001b[0m\u001b[0m\n\u001b[1;32m-> 1051\u001b[1;33m                 \u001b[1;32mraise\u001b[0m \u001b[0mKeyboardInterrupt\u001b[0m\u001b[1;33m(\u001b[0m\u001b[1;34m\"Interrupted by user\"\u001b[0m\u001b[1;33m)\u001b[0m \u001b[1;32mfrom\u001b[0m \u001b[1;32mNone\u001b[0m\u001b[1;33m\u001b[0m\u001b[1;33m\u001b[0m\u001b[0m\n\u001b[0m\u001b[0;32m   1052\u001b[0m             \u001b[1;32mexcept\u001b[0m \u001b[0mException\u001b[0m\u001b[1;33m:\u001b[0m\u001b[1;33m\u001b[0m\u001b[1;33m\u001b[0m\u001b[0m\n\u001b[0;32m   1053\u001b[0m                 \u001b[0mself\u001b[0m\u001b[1;33m.\u001b[0m\u001b[0mlog\u001b[0m\u001b[1;33m.\u001b[0m\u001b[0mwarning\u001b[0m\u001b[1;33m(\u001b[0m\u001b[1;34m\"Invalid Message:\"\u001b[0m\u001b[1;33m,\u001b[0m \u001b[0mexc_info\u001b[0m\u001b[1;33m=\u001b[0m\u001b[1;32mTrue\u001b[0m\u001b[1;33m)\u001b[0m\u001b[1;33m\u001b[0m\u001b[1;33m\u001b[0m\u001b[0m\n",
      "\u001b[1;31mKeyboardInterrupt\u001b[0m: Interrupted by user"
     ]
    }
   ],
   "source": [
    "my_input =input('Enter elements of a list separated by space ').split()\n",
    "c = 0\n",
    "start =input('Enter a start : ')\n",
    "end =input('Enter a end : ')\n",
    "for i in  my_input:\n",
    "    if i>=start and i<=end:\n",
    "        c+=1\n",
    "print(c)"
   ]
  },
  {
   "cell_type": "markdown",
   "id": "321990b5",
   "metadata": {},
   "source": [
    "## 14. Write a Python program to check whether a list contains a sublist.\n"
   ]
  },
  {
   "cell_type": "code",
   "execution_count": 57,
   "id": "812d91b4",
   "metadata": {
    "scrolled": true
   },
   "outputs": [
    {
     "name": "stdout",
     "output_type": "stream",
     "text": [
      "Enter elements of a list separated by space 1 2 3 4 5 6\n",
      "Enter elements of a sub separated by space 2 7\n",
      "False\n"
     ]
    }
   ],
   "source": [
    "my_input =input('Enter elements of a list separated by space ').split()\n",
    "my_sub =input('Enter elements of a sub separated by space ').split()\n",
    "print(True if set(my_sub).issubset(set(my_input)) else False)"
   ]
  },
  {
   "cell_type": "markdown",
   "id": "184d893a",
   "metadata": {},
   "source": [
    "## 15. Write a Python script to sort (ascending and descending) a dictionary by value.\n"
   ]
  },
  {
   "cell_type": "code",
   "execution_count": 14,
   "id": "0af8e34d",
   "metadata": {},
   "outputs": [
    {
     "name": "stdout",
     "output_type": "stream",
     "text": [
      "Enter #of dic values 3\n",
      "Enter Pairlol 1\n"
     ]
    },
    {
     "ename": "KeyboardInterrupt",
     "evalue": "Interrupted by user",
     "output_type": "error",
     "traceback": [
      "\u001b[1;31m---------------------------------------------------------------------------\u001b[0m",
      "\u001b[1;31mKeyboardInterrupt\u001b[0m                         Traceback (most recent call last)",
      "\u001b[1;32m~\\AppData\\Local\\Temp/ipykernel_13876/2808032807.py\u001b[0m in \u001b[0;36m<module>\u001b[1;34m\u001b[0m\n\u001b[0;32m      2\u001b[0m \u001b[0md\u001b[0m \u001b[1;33m=\u001b[0m\u001b[1;33m{\u001b[0m\u001b[1;33m}\u001b[0m\u001b[1;33m\u001b[0m\u001b[1;33m\u001b[0m\u001b[0m\n\u001b[0;32m      3\u001b[0m \u001b[1;32mfor\u001b[0m \u001b[0mi\u001b[0m \u001b[1;32min\u001b[0m \u001b[0mrange\u001b[0m\u001b[1;33m(\u001b[0m\u001b[0mn\u001b[0m\u001b[1;33m)\u001b[0m\u001b[1;33m:\u001b[0m\u001b[1;33m\u001b[0m\u001b[1;33m\u001b[0m\u001b[0m\n\u001b[1;32m----> 4\u001b[1;33m     \u001b[0mtext\u001b[0m \u001b[1;33m=\u001b[0m \u001b[0minput\u001b[0m\u001b[1;33m(\u001b[0m\u001b[1;34m'Enter Pair'\u001b[0m\u001b[1;33m)\u001b[0m\u001b[1;33m.\u001b[0m\u001b[0msplit\u001b[0m\u001b[1;33m(\u001b[0m\u001b[1;33m)\u001b[0m\u001b[1;33m\u001b[0m\u001b[1;33m\u001b[0m\u001b[0m\n\u001b[0m\u001b[0;32m      5\u001b[0m     \u001b[0md\u001b[0m\u001b[1;33m[\u001b[0m\u001b[0mtext\u001b[0m\u001b[1;33m[\u001b[0m\u001b[1;36m0\u001b[0m\u001b[1;33m]\u001b[0m\u001b[1;33m]\u001b[0m \u001b[1;33m=\u001b[0m \u001b[0mtext\u001b[0m\u001b[1;33m[\u001b[0m\u001b[1;36m1\u001b[0m\u001b[1;33m]\u001b[0m\u001b[1;33m\u001b[0m\u001b[1;33m\u001b[0m\u001b[0m\n\u001b[0;32m      6\u001b[0m \u001b[0msorted_list\u001b[0m \u001b[1;33m=\u001b[0m \u001b[0msorted\u001b[0m\u001b[1;33m(\u001b[0m\u001b[0md\u001b[0m\u001b[1;33m.\u001b[0m\u001b[0mitems\u001b[0m\u001b[1;33m(\u001b[0m\u001b[1;33m)\u001b[0m\u001b[1;33m,\u001b[0m \u001b[0mkey\u001b[0m\u001b[1;33m=\u001b[0m\u001b[1;32mlambda\u001b[0m \u001b[0mx\u001b[0m\u001b[1;33m:\u001b[0m \u001b[0mx\u001b[0m\u001b[1;33m[\u001b[0m\u001b[1;33m-\u001b[0m\u001b[1;36m1\u001b[0m\u001b[1;33m]\u001b[0m\u001b[1;33m)\u001b[0m\u001b[1;33m\u001b[0m\u001b[1;33m\u001b[0m\u001b[0m\n",
      "\u001b[1;32m~\\anaconda3\\lib\\site-packages\\ipykernel\\kernelbase.py\u001b[0m in \u001b[0;36mraw_input\u001b[1;34m(self, prompt)\u001b[0m\n\u001b[0;32m   1004\u001b[0m                 \u001b[1;34m\"raw_input was called, but this frontend does not support input requests.\"\u001b[0m\u001b[1;33m\u001b[0m\u001b[1;33m\u001b[0m\u001b[0m\n\u001b[0;32m   1005\u001b[0m             )\n\u001b[1;32m-> 1006\u001b[1;33m         return self._input_request(\n\u001b[0m\u001b[0;32m   1007\u001b[0m             \u001b[0mstr\u001b[0m\u001b[1;33m(\u001b[0m\u001b[0mprompt\u001b[0m\u001b[1;33m)\u001b[0m\u001b[1;33m,\u001b[0m\u001b[1;33m\u001b[0m\u001b[1;33m\u001b[0m\u001b[0m\n\u001b[0;32m   1008\u001b[0m             \u001b[0mself\u001b[0m\u001b[1;33m.\u001b[0m\u001b[0m_parent_ident\u001b[0m\u001b[1;33m[\u001b[0m\u001b[1;34m\"shell\"\u001b[0m\u001b[1;33m]\u001b[0m\u001b[1;33m,\u001b[0m\u001b[1;33m\u001b[0m\u001b[1;33m\u001b[0m\u001b[0m\n",
      "\u001b[1;32m~\\anaconda3\\lib\\site-packages\\ipykernel\\kernelbase.py\u001b[0m in \u001b[0;36m_input_request\u001b[1;34m(self, prompt, ident, parent, password)\u001b[0m\n\u001b[0;32m   1049\u001b[0m             \u001b[1;32mexcept\u001b[0m \u001b[0mKeyboardInterrupt\u001b[0m\u001b[1;33m:\u001b[0m\u001b[1;33m\u001b[0m\u001b[1;33m\u001b[0m\u001b[0m\n\u001b[0;32m   1050\u001b[0m                 \u001b[1;31m# re-raise KeyboardInterrupt, to truncate traceback\u001b[0m\u001b[1;33m\u001b[0m\u001b[1;33m\u001b[0m\u001b[0m\n\u001b[1;32m-> 1051\u001b[1;33m                 \u001b[1;32mraise\u001b[0m \u001b[0mKeyboardInterrupt\u001b[0m\u001b[1;33m(\u001b[0m\u001b[1;34m\"Interrupted by user\"\u001b[0m\u001b[1;33m)\u001b[0m \u001b[1;32mfrom\u001b[0m \u001b[1;32mNone\u001b[0m\u001b[1;33m\u001b[0m\u001b[1;33m\u001b[0m\u001b[0m\n\u001b[0m\u001b[0;32m   1052\u001b[0m             \u001b[1;32mexcept\u001b[0m \u001b[0mException\u001b[0m\u001b[1;33m:\u001b[0m\u001b[1;33m\u001b[0m\u001b[1;33m\u001b[0m\u001b[0m\n\u001b[0;32m   1053\u001b[0m                 \u001b[0mself\u001b[0m\u001b[1;33m.\u001b[0m\u001b[0mlog\u001b[0m\u001b[1;33m.\u001b[0m\u001b[0mwarning\u001b[0m\u001b[1;33m(\u001b[0m\u001b[1;34m\"Invalid Message:\"\u001b[0m\u001b[1;33m,\u001b[0m \u001b[0mexc_info\u001b[0m\u001b[1;33m=\u001b[0m\u001b[1;32mTrue\u001b[0m\u001b[1;33m)\u001b[0m\u001b[1;33m\u001b[0m\u001b[1;33m\u001b[0m\u001b[0m\n",
      "\u001b[1;31mKeyboardInterrupt\u001b[0m: Interrupted by user"
     ]
    }
   ],
   "source": [
    "n = int(input('Enter #of dic values ')) \n",
    "d ={}                     \n",
    "for i in range(n):        \n",
    "    text = input('Enter a Pair : ').split()     \n",
    "    d[text[0]] = text[1]       \n",
    "sorted_list = sorted(d.items(), key=lambda x: x[-1])\n",
    "print(sorted_list)\n",
    "sorted_list = sorted(d.items(), key=lambda x: x[-1], reverse=True)\n",
    "print(sorted_list)"
   ]
  },
  {
   "cell_type": "markdown",
   "id": "57d86e38",
   "metadata": {},
   "source": [
    "## 16. Write a Python script to add a key to a dictionary.\n"
   ]
  },
  {
   "cell_type": "code",
   "execution_count": 15,
   "id": "d978383f",
   "metadata": {},
   "outputs": [
    {
     "name": "stdout",
     "output_type": "stream",
     "text": [
      "Enter #of dic values 3\n",
      "Enter a Pair : lol 1\n",
      "Enter a Pair : lel 2\n",
      "Enter a Pair : lil 3\n",
      "Enter Key  :lwl\n",
      "Enter Value :4\n",
      "{'lol': '1', 'lel': '2', 'lil': '3', 'lwl': '4'}\n"
     ]
    }
   ],
   "source": [
    "n = int(input('Enter #of dic values ')) \n",
    "d ={}                     \n",
    "for i in range(n):        \n",
    "    text = input('Enter a Pair : ').split()     \n",
    "    d[text[0]] = text[1]      \n",
    "input_key = input('Enter Key  :')\n",
    "input_value = input('Enter Value :')\n",
    "d[input_key]=input_value\n",
    "print(d)"
   ]
  },
  {
   "cell_type": "markdown",
   "id": "41225d22",
   "metadata": {},
   "source": [
    "## 17. Write a Python script to concatenate following dictionaries to create a new one.\n"
   ]
  },
  {
   "cell_type": "code",
   "execution_count": 19,
   "id": "939e73e1",
   "metadata": {},
   "outputs": [
    {
     "name": "stdout",
     "output_type": "stream",
     "text": [
      "{'A': 1, 'B': 2, 'C': 3, 'D': 4, 'E': 5, 'F': 6}\n"
     ]
    }
   ],
   "source": [
    "d1 = {'A': 1, 'B': 2}\n",
    "d2 = {'C': 3, 'D': 4}\n",
    "d3 = {'E': 5, 'F': 6}\n",
    "print({**d1, **d2, **d3})"
   ]
  },
  {
   "cell_type": "markdown",
   "id": "760e695c",
   "metadata": {},
   "source": [
    "## 18. Write a Python script to check if a given key already exists in a dictionary.\n"
   ]
  },
  {
   "cell_type": "code",
   "execution_count": 21,
   "id": "848e99a2",
   "metadata": {},
   "outputs": [
    {
     "name": "stdout",
     "output_type": "stream",
     "text": [
      "Enter #of dic values 3\n",
      "Enter a Pair : lol 1\n",
      "Enter a Pair : lel 2\n",
      "Enter a Pair : lul 3\n",
      "Enter Key  :lel\n",
      "True\n"
     ]
    }
   ],
   "source": [
    "n = int(input('Enter #of dic values ')) \n",
    "d ={}                     \n",
    "for i in range(n):        \n",
    "    text = input('Enter a Pair : ').split()     \n",
    "    d[text[0]] = text[1]      \n",
    "input_key = input('Enter Key  :')\n",
    "print(input_key in d.keys())"
   ]
  },
  {
   "cell_type": "markdown",
   "id": "ae2422e8",
   "metadata": {},
   "source": [
    "## 19. Write a Python script to merge two Python dictionaries.\n"
   ]
  },
  {
   "cell_type": "code",
   "execution_count": 22,
   "id": "dfb6776a",
   "metadata": {},
   "outputs": [
    {
     "name": "stdout",
     "output_type": "stream",
     "text": [
      "Enter #of dic values 2\n",
      "Enter a Pair : lol 1\n",
      "Enter a Pair : lel 2\n",
      "Enter #of dic values 2\n",
      "Enter a Pair : pip 1\n",
      "Enter a Pair : pop 2\n",
      "{'lol': '1', 'lel': '2', 'pip': '1', 'pop': '2'}\n"
     ]
    }
   ],
   "source": [
    "n = int(input('Enter #of dic values ')) \n",
    "d1 ={}                     \n",
    "for i in range(n):        \n",
    "    text = input('Enter a Pair : ').split()     \n",
    "    d1[text[0]] = text[1]      \n",
    "n = int(input('Enter #of dic values ')) \n",
    "d2 ={}                     \n",
    "for i in range(n):        \n",
    "    text = input('Enter a Pair : ').split()     \n",
    "    d2[text[0]] = text[1]      \n",
    "d1.update(d2)\n",
    "print(d1)"
   ]
  },
  {
   "cell_type": "markdown",
   "id": "a7bd8843",
   "metadata": {},
   "source": [
    "## 20. Write a Python program to iterate over dictionary and print each key-value pair, using for loops.\n"
   ]
  },
  {
   "cell_type": "code",
   "execution_count": 24,
   "id": "2e2e10e0",
   "metadata": {},
   "outputs": [
    {
     "name": "stdout",
     "output_type": "stream",
     "text": [
      "Enter #of dic values 2\n",
      "Enter a Pair : lol 1\n",
      "Enter a Pair : lel 2\n",
      "Enter #of dic values 2\n",
      "Enter a Pair : wow 1\n",
      "Enter a Pair : wew 2\n",
      "lol 1\n",
      "wow 1\n",
      "lel 2\n",
      "wew 2\n"
     ]
    }
   ],
   "source": [
    "n = int(input('Enter #of dic values ')) \n",
    "d1 ={}                     \n",
    "for i in range(n):        \n",
    "    text = input('Enter a Pair : ').split()     \n",
    "    d1[text[0]] = text[1]      \n",
    "n = int(input('Enter #of dic values ')) \n",
    "d2 ={}                     \n",
    "for i in range(n):        \n",
    "    text = input('Enter a Pair : ').split()     \n",
    "    d2[text[0]] = text[1]   \n",
    "for (key1,value1), (key2,value2) in zip(d1.items(), d2.items()):\n",
    "    print(key1, value1)\n",
    "    print(key2, value2)"
   ]
  },
  {
   "cell_type": "markdown",
   "id": "20906e8e",
   "metadata": {},
   "source": [
    "## 21. Write a Python program to sum all the values in a dictionary.\n"
   ]
  },
  {
   "cell_type": "code",
   "execution_count": 28,
   "id": "bcb66ecb",
   "metadata": {},
   "outputs": [
    {
     "name": "stdout",
     "output_type": "stream",
     "text": [
      "3\n"
     ]
    }
   ],
   "source": [
    "d1 = {'A': 1, 'B': 2}\n",
    "print(sum(d1.values()))"
   ]
  },
  {
   "cell_type": "markdown",
   "id": "51571026",
   "metadata": {},
   "source": [
    "## 22. Write a Python program to multiply all the values in a dictionary.\n"
   ]
  },
  {
   "cell_type": "code",
   "execution_count": 30,
   "id": "7f90ab45",
   "metadata": {},
   "outputs": [
    {
     "name": "stdout",
     "output_type": "stream",
     "text": [
      "6\n"
     ]
    }
   ],
   "source": [
    "d1 = {'A': 1, 'B': 2 , 'C' : 3}\n",
    "Result = 1\n",
    "for value in d1.values():\n",
    "    Result *= value\n",
    "print(Result)"
   ]
  },
  {
   "cell_type": "markdown",
   "id": "6f478d3d",
   "metadata": {},
   "source": [
    "## 23. Write a Python program to remove a key from a dictionary.\n"
   ]
  },
  {
   "cell_type": "code",
   "execution_count": 38,
   "id": "ec14cabd",
   "metadata": {},
   "outputs": [
    {
     "name": "stdout",
     "output_type": "stream",
     "text": [
      "Enter #of dic values 2\n",
      "Enter a Pair : lol 1\n",
      "Enter a Pair : lel 2\n",
      "Enter Key  :lol\n",
      "{'lel': '2'}\n"
     ]
    }
   ],
   "source": [
    "n = int(input('Enter #of dic values ')) \n",
    "d1 ={}                     \n",
    "for i in range(n):        \n",
    "    text = input('Enter a Pair : ').split()     \n",
    "    d1[text[0]] = text[1]      \n",
    "input_key = input('Enter Key  :')\n",
    "d1.pop(input_key, 'Not Found')\n",
    "print(d1)"
   ]
  },
  {
   "cell_type": "markdown",
   "id": "f86770c2",
   "metadata": {},
   "source": [
    "## 24. Write a Python program to sort a dictionary by key."
   ]
  },
  {
   "cell_type": "code",
   "execution_count": 42,
   "id": "10fa09ac",
   "metadata": {},
   "outputs": [
    {
     "name": "stdout",
     "output_type": "stream",
     "text": [
      "Enter #of dic values 3\n",
      "Enter a Pair : a 1\n",
      "Enter a Pair : c 2\n",
      "Enter a Pair : b 3\n",
      "{'a': '1', 'b': '3', 'c': '2'}\n"
     ]
    }
   ],
   "source": [
    "n = int(input('Enter #of dic values ')) \n",
    "d1 ={}                     \n",
    "for i in range(n):        \n",
    "    text = input('Enter a Pair : ').split()     \n",
    "    d1[text[0]] = text[1]      \n",
    "sorted_d = sorted(d1.items(), key=lambda x: x[0])\n",
    "print(dict(sorted_d))"
   ]
  },
  {
   "cell_type": "markdown",
   "id": "fbbdc9d5",
   "metadata": {},
   "source": [
    "## 25. Write a Python program to remove duplicates from Dictionary."
   ]
  },
  {
   "cell_type": "code",
   "execution_count": 45,
   "id": "35ca6d56",
   "metadata": {
    "scrolled": true
   },
   "outputs": [
    {
     "name": "stdout",
     "output_type": "stream",
     "text": [
      "Enter #of dic values 3\n",
      "Enter a Pair : lol 1\n",
      "Enter a Pair : lol 1\n",
      "Enter a Pair : lel 2\n",
      "{'lol': '1', 'lel': '2'}\n",
      "{'lol': '1', 'lel': '2'}\n"
     ]
    }
   ],
   "source": [
    "n = int(input('Enter #of dic values ')) \n",
    "d1 ={}                     \n",
    "for i in range(n):        \n",
    "    text = input('Enter a Pair : ').split()     \n",
    "    d1[text[0]] = text[1]  \n",
    "print(d1)\n",
    "for key, value in d1.items():\n",
    "    if value not in d1.values():\n",
    "        d1[key] = value\n",
    "print(d1)\n",
    "#i think input way will remove duplicates autom."
   ]
  },
  {
   "cell_type": "markdown",
   "id": "3e9fc08c",
   "metadata": {},
   "source": [
    "## 26. Write a Python program to combine two dictionaries adding values for common keys."
   ]
  },
  {
   "cell_type": "code",
   "execution_count": 49,
   "id": "63d58f21",
   "metadata": {},
   "outputs": [
    {
     "name": "stdout",
     "output_type": "stream",
     "text": [
      "Counter({'A': 4, 'B': 4, 'D': 4, 'C': 3})\n"
     ]
    }
   ],
   "source": [
    "from collections import Counter\n",
    "d1 = {'A': 1, 'B': 2, 'C': 3}\n",
    "d2 = {'A': 3, 'B': 2, 'D': 4}\n",
    "d3 = {}\n",
    "for key in d1.keys():\n",
    "    if key in d2.keys():\n",
    "        d3[key] = d1[key] + d2[key]\n",
    "    else:\n",
    "        d3[key] = d1[key]\n",
    "for key in d2.keys():\n",
    "    if key not in d3.keys():\n",
    "        d3[key] = d2[key]\n",
    "sorted_list = sorted(d3.items(), key=lambda x: x[1], reverse=True)\n",
    "sorted_dict = dict(sorted_list)\n",
    "print(Counter(sorted_dict))"
   ]
  },
  {
   "cell_type": "markdown",
   "id": "4e613c76",
   "metadata": {},
   "source": [
    "## 27. Write a Python program to sort a list alphabetically."
   ]
  },
  {
   "cell_type": "code",
   "execution_count": 51,
   "id": "ce596a99",
   "metadata": {},
   "outputs": [
    {
     "name": "stdout",
     "output_type": "stream",
     "text": [
      "Enter elements of a list separated by space A C D E B\n",
      "['A', 'B', 'C', 'D', 'E']\n"
     ]
    }
   ],
   "source": [
    "my_input =input('Enter elements of a list separated by space :').split()\n",
    "my_input.sort()\n",
    "print(my_input)"
   ]
  },
  {
   "cell_type": "markdown",
   "id": "85e7cef3",
   "metadata": {},
   "source": [
    "## 28. Write a Python program to remove spaces from dictionary keys.\n"
   ]
  },
  {
   "cell_type": "code",
   "execution_count": 53,
   "id": "2e0ef763",
   "metadata": {},
   "outputs": [
    {
     "name": "stdout",
     "output_type": "stream",
     "text": [
      "{'ABC': 3, 'CED': 4}\n"
     ]
    }
   ],
   "source": [
    "d1 = {'A B C ': 3, 'C E D': 4}\n",
    "d1 = {key.replace(' ', ''): value for key, value in d1.items()}\n",
    "print(d1)"
   ]
  },
  {
   "cell_type": "markdown",
   "id": "85aa9ed6",
   "metadata": {},
   "source": [
    "## 29. Write a Python program to print a dictionary item by item."
   ]
  },
  {
   "cell_type": "code",
   "execution_count": 2,
   "id": "08f8262d",
   "metadata": {},
   "outputs": [
    {
     "name": "stdout",
     "output_type": "stream",
     "text": [
      "Enter #of dic values 3\n",
      "Enter a Pair : lol 1\n",
      "Enter a Pair : lel 2\n",
      "Enter a Pair : lrl 3\n",
      "lol : 1\n",
      "lel : 2\n",
      "lrl : 3\n"
     ]
    },
    {
     "data": {
      "text/plain": [
       "[None, None, None]"
      ]
     },
     "execution_count": 2,
     "metadata": {},
     "output_type": "execute_result"
    }
   ],
   "source": [
    "n = int(input('Enter #of dic values ')) \n",
    "d1 ={}                     \n",
    "for i in range(n):        \n",
    "    text = input('Enter a Pair : ').split()     \n",
    "    d1[text[0]] = text[1]  \n",
    "[print(key,':',value) for key, value in d1.items()]"
   ]
  },
  {
   "cell_type": "markdown",
   "id": "65e4028b",
   "metadata": {},
   "source": [
    "## 30. Write a Python program to check if multiple items stored in a list are keys in a dictionary."
   ]
  },
  {
   "cell_type": "code",
   "execution_count": 4,
   "id": "71f16c37",
   "metadata": {},
   "outputs": [
    {
     "name": "stdout",
     "output_type": "stream",
     "text": [
      "Enter elements of a list separated by space :1 2 3\n",
      "Enter #of dic values 3\n",
      "Enter a Pair : 1 lol\n",
      "Enter a Pair : 2 meme\n",
      "Enter a Pair : 3 lel\n",
      "1 is a key in the dictionary.\n",
      "2 is a key in the dictionary.\n",
      "3 is a key in the dictionary.\n"
     ]
    }
   ],
   "source": [
    "my_list = input('Enter elements of a list separated by space :').split()\n",
    "n = int(input('Enter #of dic values ')) \n",
    "d1 ={}                     \n",
    "for i in range(n):        \n",
    "    text = input('Enter a Pair : ').split()     \n",
    "    d1[text[0]] = text[1]  \n",
    "for i in my_list:\n",
    "    if d1.keys().__contains__(i):\n",
    "        print(str(i) + \" is a key in the dictionary.\")\n",
    "    else:\n",
    "        print(str(i) + \" is not a key in the dictionary.\")"
   ]
  },
  {
   "cell_type": "markdown",
   "id": "3b4c8184",
   "metadata": {},
   "source": [
    "## 31. Write a Python program to count number of items in a dictionary value that is a list."
   ]
  },
  {
   "cell_type": "code",
   "execution_count": null,
   "id": "d1e7edcb",
   "metadata": {},
   "outputs": [],
   "source": [
    "my_list = input('Enter elements of a list separated by space :').split()\n",
    "n = int(input('Enter #of dic values ')) \n",
    "d1 ={}                     \n",
    "for i in range(n):        \n",
    "    text = input('Enter a Pair : ').split()     \n",
    "    d1[text[0]] = text[1]  \n",
    "for value in d1.values():\n",
    "    if type(value) is list:\n",
    "         C+= 1\n",
    "print(C)"
   ]
  },
  {
   "cell_type": "markdown",
   "id": "d72962c4",
   "metadata": {},
   "source": [
    "## 32. Write a Python program to sort items in a dictionary by values in a descending order.\n"
   ]
  },
  {
   "cell_type": "code",
   "execution_count": 5,
   "id": "d346d2ed",
   "metadata": {},
   "outputs": [
    {
     "name": "stdout",
     "output_type": "stream",
     "text": [
      "Enter #of dic values 3\n",
      "Enter a Pair : lol 2\n",
      "Enter a Pair : lel 3\n",
      "Enter a Pair : lelo 5\n",
      "[('lelo', '5'), ('lel', '3'), ('lol', '2')]\n"
     ]
    }
   ],
   "source": [
    "n = int(input('Enter #of dic values ')) \n",
    "d1 ={}                     \n",
    "for i in range(n):        \n",
    "    text = input('Enter a Pair : ').split()     \n",
    "    d1[text[0]] = text[1]  \n",
    "sorted_d = sorted(d1.items(), key=lambda x: x[1], reverse=True)\n",
    "print(sorted_d)"
   ]
  },
  {
   "cell_type": "markdown",
   "id": "94efa200",
   "metadata": {},
   "source": [
    "## 33. Write a Python program to replace dictionary values with their sum."
   ]
  },
  {
   "cell_type": "code",
   "execution_count": 8,
   "id": "ca5766a8",
   "metadata": {},
   "outputs": [
    {
     "name": "stdout",
     "output_type": "stream",
     "text": [
      "{'A': 6, 'B': 6, 'C': 6}\n"
     ]
    }
   ],
   "source": [
    "d1 ={'A': 1, 'B': 2, 'C':3}                     \n",
    "Sum = sum(d1.values())\n",
    "for key in d1.keys():\n",
    "    d1[key] = Sum\n",
    "print(d1)"
   ]
  },
  {
   "cell_type": "markdown",
   "id": "c938d7bf",
   "metadata": {},
   "source": [
    "## 34. Write a Python program to convert a list of tuples into a dictionary."
   ]
  },
  {
   "cell_type": "code",
   "execution_count": 12,
   "id": "964f9c94",
   "metadata": {},
   "outputs": [
    {
     "name": "stdout",
     "output_type": "stream",
     "text": [
      "{'A': 1, 'B': 2, 'C': 3}\n"
     ]
    }
   ],
   "source": [
    "t = [('A', 1), ('B', 2), ('C', 3)]\n",
    "d = {}\n",
    "for item in t:\n",
    "    d[item[0]] = item[1]\n",
    "print(d)"
   ]
  },
  {
   "cell_type": "markdown",
   "id": "02eb04a8",
   "metadata": {},
   "source": [
    "## 35. Write a Python program to count the elements in a list until an element is a tuple.\n"
   ]
  },
  {
   "cell_type": "code",
   "execution_count": 16,
   "id": "111b6180",
   "metadata": {},
   "outputs": [
    {
     "name": "stdout",
     "output_type": "stream",
     "text": [
      "2\n"
     ]
    }
   ],
   "source": [
    "my_input = ['A','B', ('B', 'C') , ('E', 'F')]\n",
    "C = 0\n",
    "for item in my_input:\n",
    "    if type(item) is not tuple:\n",
    "        C += 1\n",
    "    else:\n",
    "        break\n",
    "print(C)"
   ]
  },
  {
   "cell_type": "markdown",
   "id": "9b473a92",
   "metadata": {},
   "source": [
    "## 36. Write a Python function that accepts a string and calculate the number of upper case letters and lower case letters."
   ]
  },
  {
   "cell_type": "code",
   "execution_count": 24,
   "id": "055509c5",
   "metadata": {},
   "outputs": [
    {
     "name": "stdout",
     "output_type": "stream",
     "text": [
      "Enter a sentence : LDKFxcv\n",
      "4\n",
      "3\n"
     ]
    }
   ],
   "source": [
    "my_input = input('Enter a sentence : ')\n",
    "upper_C, lower_C = 0, 0\n",
    "for i in my_input:\n",
    "    if i.islower():\n",
    "        lower_C += 1\n",
    "    elif i.isupper():\n",
    "        upper_C += 1\n",
    "print(upper_C)\n",
    "print(lower_C)"
   ]
  },
  {
   "cell_type": "markdown",
   "id": "e59fddc2",
   "metadata": {},
   "source": [
    "## 37. Write a Python program that takes a list and returns a new list with unique elements of the first list."
   ]
  },
  {
   "cell_type": "code",
   "execution_count": 25,
   "id": "65e69375",
   "metadata": {},
   "outputs": [
    {
     "name": "stdout",
     "output_type": "stream",
     "text": [
      "Enter elements of a list separated by space 1 2 2 2 3 4 5 4 5 6 6\n",
      "['1', '2', '3', '4', '5', '6']\n"
     ]
    }
   ],
   "source": [
    "my_input =input('Enter elements of a list separated by space ').split()\n",
    "unique_list = []\n",
    "for i in my_input:\n",
    "    if i not in unique_list:\n",
    "        unique_list.append(i)\n",
    "print(unique_list)"
   ]
  },
  {
   "cell_type": "code",
   "execution_count": null,
   "id": "1045d60f",
   "metadata": {},
   "outputs": [],
   "source": []
  }
 ],
 "metadata": {
  "kernelspec": {
   "display_name": "Python 3 (ipykernel)",
   "language": "python",
   "name": "python3"
  },
  "language_info": {
   "codemirror_mode": {
    "name": "ipython",
    "version": 3
   },
   "file_extension": ".py",
   "mimetype": "text/x-python",
   "name": "python",
   "nbconvert_exporter": "python",
   "pygments_lexer": "ipython3",
   "version": "3.9.7"
  }
 },
 "nbformat": 4,
 "nbformat_minor": 5
}
